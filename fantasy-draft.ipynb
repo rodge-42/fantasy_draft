{
 "cells": [
  {
   "cell_type": "code",
   "execution_count": 1,
   "source": [
    "import requests\n",
    "import pandas as pd\n",
    "import json"
   ],
   "outputs": [],
   "metadata": {}
  },
  {
   "cell_type": "code",
   "execution_count": 80,
   "source": [
    "draft_session = requests.Session()\n",
    "fanto_session = requests.Session()"
   ],
   "outputs": [],
   "metadata": {}
  },
  {
   "cell_type": "code",
   "execution_count": 81,
   "source": [
    "url = 'https://users.premierleague.com/accounts/login/'\n",
    "draft_payload = {\n",
    "'login': input(\"Enter your email\"),\n",
    "'password': input(\"Enter your password\"), \n",
    "'redirect_uri': 'https://draft.premierleague.com/a/login',\n",
    "'app': 'plfpl-web'\n",
    "}\n",
    "\n",
    "fanto_payload = {\n",
    "'login': input(\"Enter your email\"),\n",
    "'password': input(\"Enter your password\"), \n",
    "'redirect_uri': 'https://fantasy.premierleague.com/a/login',\n",
    "'app': 'plfpl-web'\n",
    "}\n",
    "draft_session.post(url, data=draft_payload)\n",
    "fanto_session.post(url, data=fanto_payload)\n"
   ],
   "outputs": [
    {
     "output_type": "execute_result",
     "data": {
      "text/plain": [
       "<Response [200]>"
      ]
     },
     "metadata": {},
     "execution_count": 81
    }
   ],
   "metadata": {}
  },
  {
   "cell_type": "code",
   "execution_count": 75,
   "source": [
    "league_id = 32903"
   ],
   "outputs": [],
   "metadata": {}
  },
  {
   "cell_type": "code",
   "execution_count": 82,
   "source": [
    "draft_info = draft_session.get('https://draft.premierleague.com/api/bootstrap-static')\n",
    "draft_info = json.loads(draft_info.text)\n",
    "fanto_info = json.loads(fanto_session.get('https://fantasy.premierleague.com/api/bootstrap-static').text)\n",
    "fanto_info"
   ],
   "outputs": [
    {
     "output_type": "execute_result",
     "data": {
      "text/plain": [
       "{}"
      ]
     },
     "metadata": {},
     "execution_count": 82
    }
   ],
   "metadata": {}
  },
  {
   "cell_type": "code",
   "execution_count": 31,
   "source": [
    "draft_info.keys()"
   ],
   "outputs": [
    {
     "output_type": "execute_result",
     "data": {
      "text/plain": [
       "dict_keys(['elements', 'element_types', 'element_stats', 'events', 'fixtures', 'settings', 'teams'])"
      ]
     },
     "metadata": {},
     "execution_count": 31
    }
   ],
   "metadata": {}
  },
  {
   "cell_type": "code",
   "execution_count": 38,
   "source": [
    "league_info =  json.loads(session.get(f'https://draft.premierleague.com/api/league/{league_id}/details').text)\n"
   ],
   "outputs": [],
   "metadata": {}
  },
  {
   "cell_type": "code",
   "execution_count": 43,
   "source": [
    "league_info.keys()"
   ],
   "outputs": [
    {
     "output_type": "execute_result",
     "data": {
      "text/plain": [
       "dict_keys(['league', 'league_entries', 'matches', 'standings'])"
      ]
     },
     "metadata": {},
     "execution_count": 43
    }
   ],
   "metadata": {}
  },
  {
   "cell_type": "code",
   "execution_count": 61,
   "source": [
    "managers = dict.fromkeys(el['entry_id'] for el in league_info['league_entries'])\n",
    "for el in league_info['league_entries']:\n",
    "    managers[el['entry_id']] = [{'manager_name':el['player_first_name'] + \" \" + el['player_last_name'], 'team_name': el['entry_name'],'short_name':el['short_name']}]\n",
    "managers"
   ],
   "outputs": [
    {
     "output_type": "execute_result",
     "data": {
      "text/plain": [
       "{110554: [{'manager_name': 'L.R. Campbell',\n",
       "   'team_name': 'FC Bada Bing',\n",
       "   'short_name': 'LC'}],\n",
       " 111093: [{'manager_name': 'Geoff Furlong',\n",
       "   'team_name': 'Dallas Cowboys RFC',\n",
       "   'short_name': 'GF'}],\n",
       " 111216: [{'manager_name': 'Dan C',\n",
       "   'team_name': 'Goldenballs FC',\n",
       "   'short_name': 'DC'}],\n",
       " 229763: [{'manager_name': 'Ian Stevenson',\n",
       "   'team_name': 'Z Crystal Methodists',\n",
       "   'short_name': 'IS'}],\n",
       " 234333: [{'manager_name': 'Dan Meijer',\n",
       "   'team_name': 'Gangsters Allardyce',\n",
       "   'short_name': 'DM'}],\n",
       " 281293: [{'manager_name': 'Al Hughes',\n",
       "   'team_name': \"Reece's Set Pieces\",\n",
       "   'short_name': 'AH'}]}"
      ]
     },
     "metadata": {},
     "execution_count": 61
    }
   ],
   "metadata": {}
  },
  {
   "cell_type": "code",
   "execution_count": 68,
   "source": [
    "game_info = json.loads(session.get(f'https://draft.premierleague.com/api/entry/{110554}/event/{7}').text)"
   ],
   "outputs": [],
   "metadata": {}
  },
  {
   "cell_type": "code",
   "execution_count": 69,
   "source": [
    "game_info"
   ],
   "outputs": [
    {
     "output_type": "execute_result",
     "data": {
      "text/plain": [
       "{'picks': [{'element': 112,\n",
       "   'position': 1,\n",
       "   'is_captain': False,\n",
       "   'is_vice_captain': False,\n",
       "   'multiplier': 1},\n",
       "  {'element': 16,\n",
       "   'position': 2,\n",
       "   'is_captain': False,\n",
       "   'is_vice_captain': False,\n",
       "   'multiplier': 1},\n",
       "  {'element': 121,\n",
       "   'position': 3,\n",
       "   'is_captain': False,\n",
       "   'is_vice_captain': False,\n",
       "   'multiplier': 1},\n",
       "  {'element': 44,\n",
       "   'position': 4,\n",
       "   'is_captain': False,\n",
       "   'is_vice_captain': False,\n",
       "   'multiplier': 1},\n",
       "  {'element': 399,\n",
       "   'position': 5,\n",
       "   'is_captain': False,\n",
       "   'is_vice_captain': False,\n",
       "   'multiplier': 1},\n",
       "  {'element': 21,\n",
       "   'position': 6,\n",
       "   'is_captain': False,\n",
       "   'is_vice_captain': False,\n",
       "   'multiplier': 1},\n",
       "  {'element': 251,\n",
       "   'position': 7,\n",
       "   'is_captain': False,\n",
       "   'is_vice_captain': False,\n",
       "   'multiplier': 1},\n",
       "  {'element': 138,\n",
       "   'position': 8,\n",
       "   'is_captain': False,\n",
       "   'is_vice_captain': False,\n",
       "   'multiplier': 1},\n",
       "  {'element': 307,\n",
       "   'position': 9,\n",
       "   'is_captain': False,\n",
       "   'is_vice_captain': False,\n",
       "   'multiplier': 1},\n",
       "  {'element': 109,\n",
       "   'position': 10,\n",
       "   'is_captain': False,\n",
       "   'is_vice_captain': False,\n",
       "   'multiplier': 1},\n",
       "  {'element': 337,\n",
       "   'position': 11,\n",
       "   'is_captain': False,\n",
       "   'is_vice_captain': False,\n",
       "   'multiplier': 1},\n",
       "  {'element': 146,\n",
       "   'position': 12,\n",
       "   'is_captain': False,\n",
       "   'is_vice_captain': False,\n",
       "   'multiplier': 1},\n",
       "  {'element': 144,\n",
       "   'position': 13,\n",
       "   'is_captain': False,\n",
       "   'is_vice_captain': False,\n",
       "   'multiplier': 1},\n",
       "  {'element': 555,\n",
       "   'position': 14,\n",
       "   'is_captain': False,\n",
       "   'is_vice_captain': False,\n",
       "   'multiplier': 1},\n",
       "  {'element': 243,\n",
       "   'position': 15,\n",
       "   'is_captain': False,\n",
       "   'is_vice_captain': False,\n",
       "   'multiplier': 1}],\n",
       " 'entry_history': {},\n",
       " 'subs': []}"
      ]
     },
     "metadata": {},
     "execution_count": 69
    }
   ],
   "metadata": {}
  },
  {
   "cell_type": "code",
   "execution_count": null,
   "source": [],
   "outputs": [],
   "metadata": {}
  }
 ],
 "metadata": {
  "kernelspec": {
   "name": "python3",
   "display_name": "Python 3.9.7 64-bit ('fantasy_work': conda)"
  },
  "language_info": {
   "codemirror_mode": {
    "name": "ipython",
    "version": 3
   },
   "file_extension": ".py",
   "mimetype": "text/x-python",
   "name": "python",
   "nbconvert_exporter": "python",
   "pygments_lexer": "ipython3",
   "version": "3.9.7"
  },
  "interpreter": {
   "hash": "ffd2944295a878b9f27b5254cd92a7b9e922b10eb1955b0b14b7676908bd5d5d"
  }
 },
 "nbformat": 4,
 "nbformat_minor": 5
}