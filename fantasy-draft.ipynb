{
 "cells": [
  {
   "cell_type": "code",
   "execution_count": 5,
   "metadata": {},
   "outputs": [],
   "source": [
    "import requests\n",
    "import pandas as pd\n",
    "import json\n",
    "import yaml\n"
   ]
  },
  {
   "cell_type": "code",
   "execution_count": 2,
   "metadata": {},
   "outputs": [],
   "source": [
    "draft_session = requests.Session()\n",
    "\n",
    "# Set up the draft session for league data\n",
    "\n",
    "fanto_session = requests.Session()\n",
    "\n",
    "# Set up the fantasy session for player data\n"
   ]
  },
  {
   "cell_type": "code",
   "execution_count": 19,
   "metadata": {},
   "outputs": [
    {
     "data": {
      "text/plain": [
       "'Lc007182'"
      ]
     },
     "execution_count": 19,
     "metadata": {},
     "output_type": "execute_result"
    }
   ],
   "source": [
    "creds = yaml.load(open('creds.yaml','r'),Loader=yaml.FullLoader)\n",
    "\n",
    "# Get your email, password, manager id and league id\n"
   ]
  },
  {
   "cell_type": "code",
   "execution_count": 66,
   "metadata": {},
   "outputs": [],
   "source": [
    "class Fantasy_Session:\n",
    "    \n",
    "    def __init__(self,gametype):\n",
    "        self.gametype = gametype\n",
    "        self.creds = yaml.load(open('creds.yaml','r'),Loader=yaml.FullLoader)\n",
    "        self.my_id = self.creds['credentials']['my_id']\n",
    "        self.league_id = self.creds['credentials']['league_id']\n",
    "        self.fpl = requests.Session()\n",
    "\n",
    "    def make_session(self):\n",
    "        self.url = 'https://users.premierleague.com/accounts/login/'\n",
    "        payload = {\n",
    "            'login': self.creds['credentials']['username'],\n",
    "            'password': self.creds['credentials']['password'], \n",
    "            'redirect_uri': f'https://{self.gametype}.premierleague.com/a/login',\n",
    "            'app': 'plfpl-web'\n",
    "        }\n",
    "        self.fpl.post(self.url, data=payload)\n",
    "    \n",
    "    def get_league_manager_info(self):\n",
    "        if self.gametype != 'draft':\n",
    "            pass\n",
    "        else:\n",
    "            self.make_session()\n",
    "            self.info =  json.loads(self.fpl.get(f'https://draft.premierleague.com/api/league/{self.league_id}/details').text)\n",
    "            self.managers = [{'manager_id':el['entry_id'],'manager_name':el['player_first_name'] + \" \" + el['player_last_name'], 'team_name': el['entry_name'],'short_name':el['short_name']} for el in self.info['league_entries']]\n",
    "            self.manager_df = pd.DataFrame(self.managers)\n",
    "\n",
    "            return self.manager_df\n",
    "    \n",
    "    def get_player_fantasy_info(self):\n",
    "        pass\n",
    "\n",
    "    def get_individual_manager_information(self):\n",
    "        \n",
    "\n",
    "            \n",
    "        \n",
    "        \n",
    "\n",
    "\n",
    "\n"
   ]
  },
  {
   "cell_type": "code",
   "execution_count": 67,
   "metadata": {},
   "outputs": [
    {
     "data": {
      "text/html": [
       "<div>\n",
       "<style scoped>\n",
       "    .dataframe tbody tr th:only-of-type {\n",
       "        vertical-align: middle;\n",
       "    }\n",
       "\n",
       "    .dataframe tbody tr th {\n",
       "        vertical-align: top;\n",
       "    }\n",
       "\n",
       "    .dataframe thead th {\n",
       "        text-align: right;\n",
       "    }\n",
       "</style>\n",
       "<table border=\"1\" class=\"dataframe\">\n",
       "  <thead>\n",
       "    <tr style=\"text-align: right;\">\n",
       "      <th></th>\n",
       "      <th>manager_id</th>\n",
       "      <th>manager_name</th>\n",
       "      <th>team_name</th>\n",
       "      <th>short_name</th>\n",
       "    </tr>\n",
       "  </thead>\n",
       "  <tbody>\n",
       "    <tr>\n",
       "      <th>0</th>\n",
       "      <td>110554</td>\n",
       "      <td>L.R. Campbell</td>\n",
       "      <td>FC Bada Bing</td>\n",
       "      <td>LC</td>\n",
       "    </tr>\n",
       "    <tr>\n",
       "      <th>1</th>\n",
       "      <td>111093</td>\n",
       "      <td>Geoff Furlong</td>\n",
       "      <td>Dallas Cowboys RFC</td>\n",
       "      <td>GF</td>\n",
       "    </tr>\n",
       "    <tr>\n",
       "      <th>2</th>\n",
       "      <td>111216</td>\n",
       "      <td>Dan C</td>\n",
       "      <td>Goldenballs FC</td>\n",
       "      <td>DC</td>\n",
       "    </tr>\n",
       "    <tr>\n",
       "      <th>3</th>\n",
       "      <td>229763</td>\n",
       "      <td>Ian Stevenson</td>\n",
       "      <td>Z Crystal Methodists</td>\n",
       "      <td>IS</td>\n",
       "    </tr>\n",
       "    <tr>\n",
       "      <th>4</th>\n",
       "      <td>234333</td>\n",
       "      <td>Dan Meijer</td>\n",
       "      <td>Gangsters Allardyce</td>\n",
       "      <td>DM</td>\n",
       "    </tr>\n",
       "    <tr>\n",
       "      <th>5</th>\n",
       "      <td>281293</td>\n",
       "      <td>Al Hughes</td>\n",
       "      <td>Reece's Set Pieces</td>\n",
       "      <td>AH</td>\n",
       "    </tr>\n",
       "  </tbody>\n",
       "</table>\n",
       "</div>"
      ],
      "text/plain": [
       "   manager_id   manager_name             team_name short_name\n",
       "0      110554  L.R. Campbell          FC Bada Bing         LC\n",
       "1      111093  Geoff Furlong    Dallas Cowboys RFC         GF\n",
       "2      111216          Dan C        Goldenballs FC         DC\n",
       "3      229763  Ian Stevenson  Z Crystal Methodists         IS\n",
       "4      234333     Dan Meijer   Gangsters Allardyce         DM\n",
       "5      281293      Al Hughes    Reece's Set Pieces         AH"
      ]
     },
     "execution_count": 67,
     "metadata": {},
     "output_type": "execute_result"
    }
   ],
   "source": [
    "\n",
    "draft = Fantasy_Session('draft')\n",
    "# fanto = Fantasy_Session('fantasy')\n",
    "fanto = Fantasy_Session('fantasy').make_session()\n",
    "\n",
    "managers = draft.get_league_manager_information()\n",
    "\n",
    "managers"
   ]
  },
  {
   "cell_type": "code",
   "execution_count": 47,
   "metadata": {},
   "outputs": [
    {
     "ename": "AttributeError",
     "evalue": "'Response' object has no attribute 'get'",
     "output_type": "error",
     "traceback": [
      "\u001b[0;31m---------------------------------------------------------------------------\u001b[0m",
      "\u001b[0;31mAttributeError\u001b[0m                            Traceback (most recent call last)",
      "\u001b[0;32m/var/folders/x5/_wvzvfsx0cngmccfly1s8tfr0000gn/T/ipykernel_19816/4145498537.py\u001b[0m in \u001b[0;36m<module>\u001b[0;34m\u001b[0m\n\u001b[1;32m      9\u001b[0m \u001b[0mfpl\u001b[0m \u001b[0;34m=\u001b[0m \u001b[0msession\u001b[0m\u001b[0;34m.\u001b[0m\u001b[0mpost\u001b[0m\u001b[0;34m(\u001b[0m\u001b[0murl\u001b[0m\u001b[0;34m,\u001b[0m \u001b[0mdata\u001b[0m\u001b[0;34m=\u001b[0m\u001b[0mpayload\u001b[0m\u001b[0;34m)\u001b[0m\u001b[0;34m\u001b[0m\u001b[0;34m\u001b[0m\u001b[0m\n\u001b[1;32m     10\u001b[0m \u001b[0;34m\u001b[0m\u001b[0m\n\u001b[0;32m---> 11\u001b[0;31m \u001b[0mfpl\u001b[0m\u001b[0;34m.\u001b[0m\u001b[0mget\u001b[0m\u001b[0;34m(\u001b[0m\u001b[0;34m'https://draft.premierleague.com/api/bootstrap-static/'\u001b[0m\u001b[0;34m)\u001b[0m\u001b[0;34m\u001b[0m\u001b[0;34m\u001b[0m\u001b[0m\n\u001b[0m",
      "\u001b[0;31mAttributeError\u001b[0m: 'Response' object has no attribute 'get'"
     ]
    }
   ],
   "source": [
    "session = requests.Session()\n",
    "url = 'https://users.premierleague.com/accounts/login/'\n",
    "payload = {\n",
    "    'login': creds['credentials']['username'],\n",
    "    'password': creds['credentials']['password'], \n",
    "    'redirect_uri': f'https://draft.premierleague.com/a/login',\n",
    "    'app': 'plfpl-web'\n",
    "}\n",
    "fpl = session.post(url, data=payload)\n",
    "\n",
    "fpl.get('https://draft.premierleague.com/api/bootstrap-static/')"
   ]
  },
  {
   "cell_type": "code",
   "execution_count": 29,
   "metadata": {},
   "outputs": [
    {
     "ename": "AttributeError",
     "evalue": "'str' object has no attribute 'text'",
     "output_type": "error",
     "traceback": [
      "\u001b[0;31m---------------------------------------------------------------------------\u001b[0m",
      "\u001b[0;31mAttributeError\u001b[0m                            Traceback (most recent call last)",
      "\u001b[0;32m/var/folders/x5/_wvzvfsx0cngmccfly1s8tfr0000gn/T/ipykernel_34658/3632313506.py\u001b[0m in \u001b[0;36m<module>\u001b[0;34m\u001b[0m\n\u001b[1;32m      4\u001b[0m \u001b[0;31m# fanto_info\u001b[0m\u001b[0;34m\u001b[0m\u001b[0;34m\u001b[0m\u001b[0m\n\u001b[1;32m      5\u001b[0m \u001b[0mmanager_info\u001b[0m \u001b[0;34m=\u001b[0m \u001b[0;34m'https://fantasy.premierleague.com/api/entry/me/'\u001b[0m\u001b[0;34m\u001b[0m\u001b[0;34m\u001b[0m\u001b[0m\n\u001b[0;32m----> 6\u001b[0;31m \u001b[0mmg_info\u001b[0m \u001b[0;34m=\u001b[0m \u001b[0mjson\u001b[0m\u001b[0;34m.\u001b[0m\u001b[0mloads\u001b[0m\u001b[0;34m(\u001b[0m\u001b[0mmanager_info\u001b[0m\u001b[0;34m.\u001b[0m\u001b[0mtext\u001b[0m\u001b[0;34m)\u001b[0m\u001b[0;34m\u001b[0m\u001b[0;34m\u001b[0m\u001b[0m\n\u001b[0m",
      "\u001b[0;31mAttributeError\u001b[0m: 'str' object has no attribute 'text'"
     ]
    }
   ],
   "source": [
    "# draft_info = draft_session.get('https://draft.premierleague.com/api/bootstrap-static/')\n",
    "# draft_info = json.loads(draft_info.text)\n",
    "# fanto_info = json.loads(fanto_session.get('https://fantasy.premierleague.com/api/bootstrap-static/').text)\n",
    "# fanto_info\n",
    "manager_info = 'https://fantasy.premierleague.com/api/entry//'\n",
    "mg_info = json.loads(manager_info.text)"
   ]
  },
  {
   "cell_type": "code",
   "execution_count": 9,
   "metadata": {},
   "outputs": [
    {
     "data": {
      "text/plain": [
       "dict_keys(['elements', 'element_types', 'element_stats', 'events', 'fixtures', 'settings', 'teams'])"
      ]
     },
     "execution_count": 9,
     "metadata": {},
     "output_type": "execute_result"
    }
   ],
   "source": [
    "draft_info.keys()"
   ]
  },
  {
   "cell_type": "code",
   "execution_count": 11,
   "metadata": {},
   "outputs": [],
   "source": [
    "league_info =  json.loads(draft_session.get(f'https://draft.premierleague.com/api/league/{league_id}/details').text)\n"
   ]
  },
  {
   "cell_type": "code",
   "execution_count": 12,
   "metadata": {},
   "outputs": [
    {
     "data": {
      "text/plain": [
       "dict_keys(['league', 'league_entries', 'matches', 'standings'])"
      ]
     },
     "execution_count": 12,
     "metadata": {},
     "output_type": "execute_result"
    }
   ],
   "source": [
    "league_info.keys()"
   ]
  },
  {
   "cell_type": "code",
   "execution_count": 61,
   "metadata": {},
   "outputs": [
    {
     "ename": "NameError",
     "evalue": "name 'league_info' is not defined",
     "output_type": "error",
     "traceback": [
      "\u001b[0;31m---------------------------------------------------------------------------\u001b[0m",
      "\u001b[0;31mNameError\u001b[0m                                 Traceback (most recent call last)",
      "\u001b[0;32m/var/folders/x5/_wvzvfsx0cngmccfly1s8tfr0000gn/T/ipykernel_19816/2991297526.py\u001b[0m in \u001b[0;36m<module>\u001b[0;34m\u001b[0m\n\u001b[0;32m----> 1\u001b[0;31m \u001b[0mmanagers\u001b[0m \u001b[0;34m=\u001b[0m \u001b[0mdict\u001b[0m\u001b[0;34m.\u001b[0m\u001b[0mfromkeys\u001b[0m\u001b[0;34m(\u001b[0m\u001b[0mel\u001b[0m\u001b[0;34m[\u001b[0m\u001b[0;34m'entry_id'\u001b[0m\u001b[0;34m]\u001b[0m \u001b[0;32mfor\u001b[0m \u001b[0mel\u001b[0m \u001b[0;32min\u001b[0m \u001b[0mleague_info\u001b[0m\u001b[0;34m[\u001b[0m\u001b[0;34m'league_entries'\u001b[0m\u001b[0;34m]\u001b[0m\u001b[0;34m)\u001b[0m\u001b[0;34m\u001b[0m\u001b[0;34m\u001b[0m\u001b[0m\n\u001b[0m\u001b[1;32m      2\u001b[0m \u001b[0;32mfor\u001b[0m \u001b[0mel\u001b[0m \u001b[0;32min\u001b[0m \u001b[0mleague_info\u001b[0m\u001b[0;34m[\u001b[0m\u001b[0;34m'league_entries'\u001b[0m\u001b[0;34m]\u001b[0m\u001b[0;34m:\u001b[0m\u001b[0;34m\u001b[0m\u001b[0;34m\u001b[0m\u001b[0m\n\u001b[1;32m      3\u001b[0m     \u001b[0mmanagers\u001b[0m\u001b[0;34m[\u001b[0m\u001b[0mel\u001b[0m\u001b[0;34m[\u001b[0m\u001b[0;34m'entry_id'\u001b[0m\u001b[0;34m]\u001b[0m\u001b[0;34m]\u001b[0m \u001b[0;34m=\u001b[0m \u001b[0;34m{\u001b[0m\u001b[0;34m'manager_name'\u001b[0m\u001b[0;34m:\u001b[0m\u001b[0mel\u001b[0m\u001b[0;34m[\u001b[0m\u001b[0;34m'player_first_name'\u001b[0m\u001b[0;34m]\u001b[0m \u001b[0;34m+\u001b[0m \u001b[0;34m\" \"\u001b[0m \u001b[0;34m+\u001b[0m \u001b[0mel\u001b[0m\u001b[0;34m[\u001b[0m\u001b[0;34m'player_last_name'\u001b[0m\u001b[0;34m]\u001b[0m\u001b[0;34m,\u001b[0m \u001b[0;34m'team_name'\u001b[0m\u001b[0;34m:\u001b[0m \u001b[0mel\u001b[0m\u001b[0;34m[\u001b[0m\u001b[0;34m'entry_name'\u001b[0m\u001b[0;34m]\u001b[0m\u001b[0;34m,\u001b[0m\u001b[0;34m'short_name'\u001b[0m\u001b[0;34m:\u001b[0m\u001b[0mel\u001b[0m\u001b[0;34m[\u001b[0m\u001b[0;34m'short_name'\u001b[0m\u001b[0;34m]\u001b[0m\u001b[0;34m}\u001b[0m\u001b[0;34m\u001b[0m\u001b[0;34m\u001b[0m\u001b[0m\n\u001b[1;32m      4\u001b[0m \u001b[0mmanagers\u001b[0m\u001b[0;34m\u001b[0m\u001b[0;34m\u001b[0m\u001b[0m\n",
      "\u001b[0;31mNameError\u001b[0m: name 'league_info' is not defined"
     ]
    }
   ],
   "source": [
    "managers = dict.fromkeys(el['entry_id'] for el in league_info['league_entries'])\n",
    "for el in league_info['league_entries']:\n",
    "    managers[el['entry_id']] = {'manager_name':el['player_first_name'] + \" \" + el['player_last_name'], 'team_name': el['entry_name'],'short_name':el['short_name']}\n",
    "managers"
   ]
  },
  {
   "cell_type": "code",
   "execution_count": 97,
   "metadata": {},
   "outputs": [],
   "source": [
    "game_info = json.loads(draft_session.get(f'https://draft.premierleague.com/api/entry/{110554}/event/{7}').text)\n",
    "player_info = json.loads(fanto_session.get('https://fantasy.premierleague.com/api/element-summary/200/').text)\n",
    "general_info = json.loads(fanto_session.get('https://fantasy.premierleague.com/api/bootstrap-static/').text)"
   ]
  },
  {
   "cell_type": "code",
   "execution_count": 101,
   "metadata": {},
   "outputs": [
    {
     "data": {
      "text/plain": [
       "dict_keys(['chance_of_playing_next_round', 'chance_of_playing_this_round', 'code', 'cost_change_event', 'cost_change_event_fall', 'cost_change_start', 'cost_change_start_fall', 'dreamteam_count', 'element_type', 'ep_next', 'ep_this', 'event_points', 'first_name', 'form', 'id', 'in_dreamteam', 'news', 'news_added', 'now_cost', 'photo', 'points_per_game', 'second_name', 'selected_by_percent', 'special', 'squad_number', 'status', 'team', 'team_code', 'total_points', 'transfers_in', 'transfers_in_event', 'transfers_out', 'transfers_out_event', 'value_form', 'value_season', 'web_name', 'minutes', 'goals_scored', 'assists', 'clean_sheets', 'goals_conceded', 'own_goals', 'penalties_saved', 'penalties_missed', 'yellow_cards', 'red_cards', 'saves', 'bonus', 'bps', 'influence', 'creativity', 'threat', 'ict_index', 'influence_rank', 'influence_rank_type', 'creativity_rank', 'creativity_rank_type', 'threat_rank', 'threat_rank_type', 'ict_index_rank', 'ict_index_rank_type', 'corners_and_indirect_freekicks_order', 'corners_and_indirect_freekicks_text', 'direct_freekicks_order', 'direct_freekicks_text', 'penalties_order', 'penalties_text'])"
      ]
     },
     "execution_count": 101,
     "metadata": {},
     "output_type": "execute_result"
    }
   ],
   "source": [
    "general_info['elements'][0].keys()\n"
   ]
  },
  {
   "cell_type": "code",
   "execution_count": 96,
   "metadata": {},
   "outputs": [
    {
     "data": {
      "text/plain": [
       "{'element': 200,\n",
       " 'fixture': 20,\n",
       " 'opponent_team': 19,\n",
       " 'total_points': 1,\n",
       " 'was_home': False,\n",
       " 'kickoff_time': '2021-08-23T19:00:00Z',\n",
       " 'team_h_score': 4,\n",
       " 'team_a_score': 1,\n",
       " 'round': 2,\n",
       " 'minutes': 90,\n",
       " 'goals_scored': 0,\n",
       " 'assists': 0,\n",
       " 'clean_sheets': 0,\n",
       " 'goals_conceded': 4,\n",
       " 'own_goals': 0,\n",
       " 'penalties_saved': 0,\n",
       " 'penalties_missed': 0,\n",
       " 'yellow_cards': 0,\n",
       " 'red_cards': 0,\n",
       " 'saves': 3,\n",
       " 'bonus': 0,\n",
       " 'bps': 15,\n",
       " 'influence': '20.0',\n",
       " 'creativity': '0.0',\n",
       " 'threat': '0.0',\n",
       " 'ict_index': '2.0',\n",
       " 'value': 50,\n",
       " 'transfers_balance': 96000,\n",
       " 'selected': 1462965,\n",
       " 'transfers_in': 136842,\n",
       " 'transfers_out': 40842}"
      ]
     },
     "execution_count": 96,
     "metadata": {},
     "output_type": "execute_result"
    }
   ],
   "source": [
    "player_info['history'][1]"
   ]
  },
  {
   "cell_type": "code",
   "execution_count": 86,
   "metadata": {},
   "outputs": [
    {
     "name": "stdout",
     "output_type": "stream",
     "text": [
      "233\n"
     ]
    }
   ],
   "source": [
    "print(manager_info['current'][3]['total_points'])"
   ]
  }
 ],
 "metadata": {
  "interpreter": {
   "hash": "68d346d3b4018edd3abbe10e833c3d0f986df8ed0cc371a9e5f44e67d91bd0d5"
  },
  "kernelspec": {
   "display_name": "Python 3.9.7 64-bit ('fantasy_work': conda)",
   "name": "python3"
  },
  "language_info": {
   "codemirror_mode": {
    "name": "ipython",
    "version": 3
   },
   "file_extension": ".py",
   "mimetype": "text/x-python",
   "name": "python",
   "nbconvert_exporter": "python",
   "pygments_lexer": "ipython3",
   "version": "3.9.7"
  }
 },
 "nbformat": 4,
 "nbformat_minor": 5
}
