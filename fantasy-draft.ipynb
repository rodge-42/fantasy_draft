{
 "cells": [
  {
   "cell_type": "code",
   "execution_count": 1,
   "metadata": {},
   "outputs": [
    {
     "ename": "ModuleNotFoundError",
     "evalue": "No module named 'yaml'",
     "output_type": "error",
     "traceback": [
      "\u001b[0;31m---------------------------------------------------------------------------\u001b[0m",
      "\u001b[0;31mModuleNotFoundError\u001b[0m                       Traceback (most recent call last)",
      "\u001b[0;32m/var/folders/x5/_wvzvfsx0cngmccfly1s8tfr0000gn/T/ipykernel_19667/2786335757.py\u001b[0m in \u001b[0;36m<module>\u001b[0;34m\u001b[0m\n\u001b[1;32m      2\u001b[0m \u001b[0;32mimport\u001b[0m \u001b[0mpandas\u001b[0m \u001b[0;32mas\u001b[0m \u001b[0mpd\u001b[0m\u001b[0;34m\u001b[0m\u001b[0;34m\u001b[0m\u001b[0m\n\u001b[1;32m      3\u001b[0m \u001b[0;32mimport\u001b[0m \u001b[0mjson\u001b[0m\u001b[0;34m\u001b[0m\u001b[0;34m\u001b[0m\u001b[0m\n\u001b[0;32m----> 4\u001b[0;31m \u001b[0;32mimport\u001b[0m \u001b[0myaml\u001b[0m\u001b[0;34m\u001b[0m\u001b[0;34m\u001b[0m\u001b[0m\n\u001b[0m",
      "\u001b[0;31mModuleNotFoundError\u001b[0m: No module named 'yaml'"
     ]
    }
   ],
   "source": [
    "import requests\n",
    "import pandas as pd\n",
    "import json\n",
    "import yaml"
   ]
  },
  {
   "cell_type": "code",
   "execution_count": 2,
   "metadata": {},
   "outputs": [],
   "source": [
    "draft_session = requests.Session()\n",
    "fanto_session = requests.Session()\n",
    "username = 'lecampbe@tcd.ie'\n",
    "password = 'Lc007182'\n",
    "# username = input(\"Enter your email:\")\n",
    "# password = input('Enter your password:')"
   ]
  },
  {
   "cell_type": "code",
   "execution_count": 3,
   "metadata": {},
   "outputs": [
    {
     "data": {
      "text/plain": [
       "<Response [200]>"
      ]
     },
     "execution_count": 3,
     "metadata": {},
     "output_type": "execute_result"
    }
   ],
   "source": [
    "url = 'https://users.premierleague.com/accounts/login/'\n",
    "draft_payload = {\n",
    "'login': username,\n",
    "'password': password, \n",
    "'redirect_uri': 'https://draft.premierleague.com/a/login',\n",
    "'app': 'plfpl-web'\n",
    "}\n",
    "\n",
    "fanto_payload = {\n",
    "'login': username,\n",
    "'password': password, \n",
    "'redirect_uri': 'https://fantasy.premierleague.com/a/login',\n",
    "'app': 'plfpl-web'\n",
    "}\n",
    "draft_session.post(url, data=draft_payload)\n",
    "fanto_session.post(url, data=fanto_payload)\n",
    "\n"
   ]
  },
  {
   "cell_type": "code",
   "execution_count": 4,
   "metadata": {},
   "outputs": [],
   "source": [
    "league_id = 32903\n",
    "my_id = 110554"
   ]
  },
  {
   "cell_type": "code",
   "execution_count": 29,
   "metadata": {},
   "outputs": [
    {
     "ename": "AttributeError",
     "evalue": "'str' object has no attribute 'text'",
     "output_type": "error",
     "traceback": [
      "\u001b[0;31m---------------------------------------------------------------------------\u001b[0m",
      "\u001b[0;31mAttributeError\u001b[0m                            Traceback (most recent call last)",
      "\u001b[0;32m/var/folders/x5/_wvzvfsx0cngmccfly1s8tfr0000gn/T/ipykernel_34658/3632313506.py\u001b[0m in \u001b[0;36m<module>\u001b[0;34m\u001b[0m\n\u001b[1;32m      4\u001b[0m \u001b[0;31m# fanto_info\u001b[0m\u001b[0;34m\u001b[0m\u001b[0;34m\u001b[0m\u001b[0m\n\u001b[1;32m      5\u001b[0m \u001b[0mmanager_info\u001b[0m \u001b[0;34m=\u001b[0m \u001b[0;34m'https://fantasy.premierleague.com/api/entry/me/'\u001b[0m\u001b[0;34m\u001b[0m\u001b[0;34m\u001b[0m\u001b[0m\n\u001b[0;32m----> 6\u001b[0;31m \u001b[0mmg_info\u001b[0m \u001b[0;34m=\u001b[0m \u001b[0mjson\u001b[0m\u001b[0;34m.\u001b[0m\u001b[0mloads\u001b[0m\u001b[0;34m(\u001b[0m\u001b[0mmanager_info\u001b[0m\u001b[0;34m.\u001b[0m\u001b[0mtext\u001b[0m\u001b[0;34m)\u001b[0m\u001b[0;34m\u001b[0m\u001b[0;34m\u001b[0m\u001b[0m\n\u001b[0m",
      "\u001b[0;31mAttributeError\u001b[0m: 'str' object has no attribute 'text'"
     ]
    }
   ],
   "source": [
    "# draft_info = draft_session.get('https://draft.premierleague.com/api/bootstrap-static/')\n",
    "# draft_info = json.loads(draft_info.text)\n",
    "# fanto_info = json.loads(fanto_session.get('https://fantasy.premierleague.com/api/bootstrap-static/').text)\n",
    "# fanto_info\n",
    "manager_info = 'https://fantasy.premierleague.com/api/entry//'\n",
    "mg_info = json.loads(manager_info.text)"
   ]
  },
  {
   "cell_type": "code",
   "execution_count": 9,
   "metadata": {},
   "outputs": [
    {
     "data": {
      "text/plain": [
       "dict_keys(['elements', 'element_types', 'element_stats', 'events', 'fixtures', 'settings', 'teams'])"
      ]
     },
     "execution_count": 9,
     "metadata": {},
     "output_type": "execute_result"
    }
   ],
   "source": [
    "draft_info.keys()"
   ]
  },
  {
   "cell_type": "code",
   "execution_count": 11,
   "metadata": {},
   "outputs": [],
   "source": [
    "league_info =  json.loads(draft_session.get(f'https://draft.premierleague.com/api/league/{league_id}/details').text)\n"
   ]
  },
  {
   "cell_type": "code",
   "execution_count": 12,
   "metadata": {},
   "outputs": [
    {
     "data": {
      "text/plain": [
       "dict_keys(['league', 'league_entries', 'matches', 'standings'])"
      ]
     },
     "execution_count": 12,
     "metadata": {},
     "output_type": "execute_result"
    }
   ],
   "source": [
    "league_info.keys()"
   ]
  },
  {
   "cell_type": "code",
   "execution_count": 37,
   "metadata": {},
   "outputs": [
    {
     "data": {
      "text/plain": [
       "{110554: [{'manager_name': 'L.R. Campbell',\n",
       "   'team_name': 'FC Bada Bing',\n",
       "   'short_name': 'LC'}],\n",
       " 111093: [{'manager_name': 'Geoff Furlong',\n",
       "   'team_name': 'Dallas Cowboys RFC',\n",
       "   'short_name': 'GF'}],\n",
       " 111216: [{'manager_name': 'Dan C',\n",
       "   'team_name': 'Goldenballs FC',\n",
       "   'short_name': 'DC'}],\n",
       " 229763: [{'manager_name': 'Ian Stevenson',\n",
       "   'team_name': 'Z Crystal Methodists',\n",
       "   'short_name': 'IS'}],\n",
       " 234333: [{'manager_name': 'Dan Meijer',\n",
       "   'team_name': 'Gangsters Allardyce',\n",
       "   'short_name': 'DM'}],\n",
       " 281293: [{'manager_name': 'Al Hughes',\n",
       "   'team_name': \"Reece's Set Pieces\",\n",
       "   'short_name': 'AH'}]}"
      ]
     },
     "execution_count": 37,
     "metadata": {},
     "output_type": "execute_result"
    }
   ],
   "source": [
    "managers = dict.fromkeys(el['entry_id'] for el in league_info['league_entries'])\n",
    "for el in league_info['league_entries']:\n",
    "    managers[el['entry_id']] = [{'manager_name':el['player_first_name'] + \" \" + el['player_last_name'], 'team_name': el['entry_name'],'short_name':el['short_name']}]\n",
    "managers"
   ]
  },
  {
   "cell_type": "code",
   "execution_count": 97,
   "metadata": {},
   "outputs": [],
   "source": [
    "game_info = json.loads(draft_session.get(f'https://draft.premierleague.com/api/entry/{110554}/event/{7}').text)\n",
    "player_info = json.loads(fanto_session.get('https://fantasy.premierleague.com/api/element-summary/200/').text)\n",
    "general_info = json.loads(fanto_session.get('https://fantasy.premierleague.com/api/bootstrap-static/').text)"
   ]
  },
  {
   "cell_type": "code",
   "execution_count": 101,
   "metadata": {},
   "outputs": [
    {
     "data": {
      "text/plain": [
       "dict_keys(['chance_of_playing_next_round', 'chance_of_playing_this_round', 'code', 'cost_change_event', 'cost_change_event_fall', 'cost_change_start', 'cost_change_start_fall', 'dreamteam_count', 'element_type', 'ep_next', 'ep_this', 'event_points', 'first_name', 'form', 'id', 'in_dreamteam', 'news', 'news_added', 'now_cost', 'photo', 'points_per_game', 'second_name', 'selected_by_percent', 'special', 'squad_number', 'status', 'team', 'team_code', 'total_points', 'transfers_in', 'transfers_in_event', 'transfers_out', 'transfers_out_event', 'value_form', 'value_season', 'web_name', 'minutes', 'goals_scored', 'assists', 'clean_sheets', 'goals_conceded', 'own_goals', 'penalties_saved', 'penalties_missed', 'yellow_cards', 'red_cards', 'saves', 'bonus', 'bps', 'influence', 'creativity', 'threat', 'ict_index', 'influence_rank', 'influence_rank_type', 'creativity_rank', 'creativity_rank_type', 'threat_rank', 'threat_rank_type', 'ict_index_rank', 'ict_index_rank_type', 'corners_and_indirect_freekicks_order', 'corners_and_indirect_freekicks_text', 'direct_freekicks_order', 'direct_freekicks_text', 'penalties_order', 'penalties_text'])"
      ]
     },
     "execution_count": 101,
     "metadata": {},
     "output_type": "execute_result"
    }
   ],
   "source": [
    "general_info['elements'][0].keys()\n"
   ]
  },
  {
   "cell_type": "code",
   "execution_count": 96,
   "metadata": {},
   "outputs": [
    {
     "data": {
      "text/plain": [
       "{'element': 200,\n",
       " 'fixture': 20,\n",
       " 'opponent_team': 19,\n",
       " 'total_points': 1,\n",
       " 'was_home': False,\n",
       " 'kickoff_time': '2021-08-23T19:00:00Z',\n",
       " 'team_h_score': 4,\n",
       " 'team_a_score': 1,\n",
       " 'round': 2,\n",
       " 'minutes': 90,\n",
       " 'goals_scored': 0,\n",
       " 'assists': 0,\n",
       " 'clean_sheets': 0,\n",
       " 'goals_conceded': 4,\n",
       " 'own_goals': 0,\n",
       " 'penalties_saved': 0,\n",
       " 'penalties_missed': 0,\n",
       " 'yellow_cards': 0,\n",
       " 'red_cards': 0,\n",
       " 'saves': 3,\n",
       " 'bonus': 0,\n",
       " 'bps': 15,\n",
       " 'influence': '20.0',\n",
       " 'creativity': '0.0',\n",
       " 'threat': '0.0',\n",
       " 'ict_index': '2.0',\n",
       " 'value': 50,\n",
       " 'transfers_balance': 96000,\n",
       " 'selected': 1462965,\n",
       " 'transfers_in': 136842,\n",
       " 'transfers_out': 40842}"
      ]
     },
     "execution_count": 96,
     "metadata": {},
     "output_type": "execute_result"
    }
   ],
   "source": [
    "player_info['history'][1]"
   ]
  },
  {
   "cell_type": "code",
   "execution_count": 86,
   "metadata": {},
   "outputs": [
    {
     "name": "stdout",
     "output_type": "stream",
     "text": [
      "233\n"
     ]
    }
   ],
   "source": [
    "print(manager_info['current'][3]['total_points'])"
   ]
  },
  {
   "cell_type": "code",
   "execution_count": null,
   "metadata": {},
   "outputs": [],
   "source": []
  }
 ],
 "metadata": {
  "interpreter": {
   "hash": "68d346d3b4018edd3abbe10e833c3d0f986df8ed0cc371a9e5f44e67d91bd0d5"
  },
  "kernelspec": {
   "display_name": "Python 3.9.7 64-bit ('fantasy_work': conda)",
   "name": "python3"
  },
  "language_info": {
   "codemirror_mode": {
    "name": "ipython",
    "version": 3
   },
   "file_extension": ".py",
   "mimetype": "text/x-python",
   "name": "python",
   "nbconvert_exporter": "python",
   "pygments_lexer": "ipython3",
   "version": "3.9.7"
  }
 },
 "nbformat": 4,
 "nbformat_minor": 5
}
