{
 "cells": [
  {
   "cell_type": "code",
   "execution_count": null,
   "source": [
    "import requests\n",
    "import pandas as pd\n",
    "import json"
   ],
   "outputs": [],
   "metadata": {}
  },
  {
   "cell_type": "code",
   "execution_count": null,
   "source": [
    "draft_session = requests.Session()\n",
    "fanto_session = requests.Session()"
   ],
   "outputs": [],
   "metadata": {}
  },
  {
   "cell_type": "code",
   "execution_count": null,
   "source": [
    "url = 'https://users.premierleague.com/accounts/login/'\n",
    "draft_payload = {\n",
    "'login': input(\"Enter your email\"),\n",
    "'password': input(\"Enter your password\"), \n",
    "'redirect_uri': 'https://draft.premierleague.com/a/login',\n",
    "'app': 'plfpl-web'\n",
    "}\n",
    "\n",
    "fanto_payload = {\n",
    "'login': input(\"Enter your email\"),\n",
    "'password': input(\"Enter your password\"), \n",
    "'redirect_uri': 'https://fantasy.premierleague.com/a/login',\n",
    "'app': 'plfpl-web'\n",
    "}\n",
    "draft_session.post(url, data=draft_payload)\n",
    "fanto_session.post(url, data=fanto_payload)\n"
   ],
   "outputs": [],
   "metadata": {}
  },
  {
   "cell_type": "code",
   "execution_count": null,
   "source": [
    "league_id = 32903"
   ],
   "outputs": [],
   "metadata": {}
  },
  {
   "cell_type": "code",
   "execution_count": null,
   "source": [
    "draft_info = draft_session.get('https://draft.premierleague.com/api/bootstrap-static')\n",
    "draft_info = json.loads(draft_info.text)\n",
    "fanto_info = json.loads(fanto_session.get('https://fantasy.premierleague.com/api/bootstrap-static').text)\n",
    "fanto_info"
   ],
   "outputs": [],
   "metadata": {}
  },
  {
   "cell_type": "code",
   "execution_count": null,
   "source": [
    "draft_info.keys()"
   ],
   "outputs": [],
   "metadata": {}
  },
  {
   "cell_type": "code",
   "execution_count": null,
   "source": [
    "league_info =  json.loads(session.get(f'https://draft.premierleague.com/api/league/{league_id}/details').text)\n"
   ],
   "outputs": [],
   "metadata": {}
  },
  {
   "cell_type": "code",
   "execution_count": null,
   "source": [
    "league_info.keys()"
   ],
   "outputs": [],
   "metadata": {}
  },
  {
   "cell_type": "code",
   "execution_count": null,
   "source": [
    "managers = dict.fromkeys(el['entry_id'] for el in league_info['league_entries'])\n",
    "for el in league_info['league_entries']:\n",
    "    managers[el['entry_id']] = [{'manager_name':el['player_first_name'] + \" \" + el['player_last_name'], 'team_name': el['entry_name'],'short_name':el['short_name']}]\n",
    "managers"
   ],
   "outputs": [],
   "metadata": {}
  },
  {
   "cell_type": "code",
   "execution_count": null,
   "source": [
    "game_info = json.loads(session.get(f'https://draft.premierleague.com/api/entry/{110554}/event/{7}').text)"
   ],
   "outputs": [],
   "metadata": {}
  },
  {
   "cell_type": "code",
   "execution_count": null,
   "source": [
    "game_info"
   ],
   "outputs": [],
   "metadata": {}
  },
  {
   "cell_type": "code",
   "execution_count": null,
   "source": [],
   "outputs": [],
   "metadata": {}
  }
 ],
 "metadata": {
  "kernelspec": {
   "name": "python3",
   "display_name": "Python 3.9.7 64-bit ('fantasy_work': conda)"
  },
  "language_info": {
   "codemirror_mode": {
    "name": "ipython",
    "version": 3
   },
   "file_extension": ".py",
   "mimetype": "text/x-python",
   "name": "python",
   "nbconvert_exporter": "python",
   "pygments_lexer": "ipython3",
   "version": "3.9.7"
  },
  "interpreter": {
   "hash": "ffd2944295a878b9f27b5254cd92a7b9e922b10eb1955b0b14b7676908bd5d5d"
  }
 },
 "nbformat": 4,
 "nbformat_minor": 5
}